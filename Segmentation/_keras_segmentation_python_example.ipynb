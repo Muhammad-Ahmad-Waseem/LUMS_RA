{
 "cells": [
  {
   "cell_type": "markdown",
   "metadata": {
    "id": "mEmeWWZlCytU"
   },
   "source": [
    "# Using Segmentation model Library"
   ]
  },
  {
   "cell_type": "markdown",
   "metadata": {
    "id": "C2PiAzBtC5of"
   },
   "source": [
    "## Install the package"
   ]
  },
  {
   "cell_type": "code",
   "execution_count": null,
   "metadata": {
    "id": "giFLmN-lCxwf"
   },
   "outputs": [],
   "source": [
    "## Install required libs\n",
    "#!pip install tensorflow==1.13.2\n",
    "!pip uninstall tensorflow\n",
    "!pip install tensorflow-gpu==1.13.2\n",
    "!pip install keras-applications==1.0.7\n",
    "!pip install keras==2.2.4\n",
    "!pip install image-classifiers==1.0.*\n",
    "!pip install efficientnet==1.0.*\n",
    "!pip install h5py==2.10.0"
   ]
  },
  {
   "cell_type": "code",
   "execution_count": null,
   "metadata": {
    "id": "enB9aRuG6SmP"
   },
   "outputs": [],
   "source": [
    "pip --version"
   ]
  },
  {
   "cell_type": "code",
   "execution_count": null,
   "metadata": {
    "id": "Fp_fRp18rJmB"
   },
   "outputs": [],
   "source": [
    "### please update Albumentations to version>=0.3.0 for `Lambda` transform support\n",
    "!pip install -U albumentations>=0.3.0 --user \n",
    "!pip install -U segmentation-models --user\n",
    "!pip install -q -U segmentation-models-pytorch --user "
   ]
  },
  {
   "cell_type": "code",
   "execution_count": null,
   "metadata": {
    "id": "jVCbmDx-aVdK"
   },
   "outputs": [],
   "source": [
    "!pip install tensorflow==1.13.2\n",
    "#!pip uninstall tensorflow"
   ]
  },
  {
   "cell_type": "markdown",
   "metadata": {
    "id": "Q12QP9OCemjC"
   },
   "source": [
    "# Check for GPU"
   ]
  },
  {
   "cell_type": "code",
   "execution_count": 1,
   "metadata": {
    "colab": {
     "base_uri": "https://localhost:8080/"
    },
    "executionInfo": {
     "elapsed": 785,
     "status": "ok",
     "timestamp": 1646042712779,
     "user": {
      "displayName": "MUHAMMAD AHMAD WASEEM WASEEM AKHTAR",
      "photoUrl": "https://lh3.googleusercontent.com/a/default-user=s64",
      "userId": "10375397456552903878"
     },
     "user_tz": -300
    },
    "id": "NmoH5ceI9J0S",
    "outputId": "ac335f90-09db-4c09-d77f-8a84545c28cd"
   },
   "outputs": [
    {
     "name": "stdout",
     "output_type": "stream",
     "text": [
      "TensorFlow 1.x selected.\n"
     ]
    }
   ],
   "source": [
    "%tensorflow_version 1.x"
   ]
  },
  {
   "cell_type": "code",
   "execution_count": 2,
   "metadata": {
    "colab": {
     "base_uri": "https://localhost:8080/"
    },
    "executionInfo": {
     "elapsed": 1731,
     "status": "ok",
     "timestamp": 1646042714507,
     "user": {
      "displayName": "MUHAMMAD AHMAD WASEEM WASEEM AKHTAR",
      "photoUrl": "https://lh3.googleusercontent.com/a/default-user=s64",
      "userId": "10375397456552903878"
     },
     "user_tz": -300
    },
    "id": "6bQmgtG8bMdd",
    "outputId": "8a5cb713-e969-4fa4-d5ea-53c1dbf8c80b"
   },
   "outputs": [
    {
     "name": "stderr",
     "output_type": "stream",
     "text": [
      "Using TensorFlow backend.\n"
     ]
    },
    {
     "data": {
      "text/plain": [
       "['/job:localhost/replica:0/task:0/device:GPU:0']"
      ]
     },
     "execution_count": 2,
     "metadata": {},
     "output_type": "execute_result"
    }
   ],
   "source": [
    "from keras import backend as K\n",
    "K.tensorflow_backend._get_available_gpus()"
   ]
  },
  {
   "cell_type": "code",
   "execution_count": null,
   "metadata": {
    "id": "D1N_-7Spc_vK"
   },
   "outputs": [],
   "source": [
    "from tensorflow.python.client import device_lib\n",
    "print(device_lib.list_local_devices())"
   ]
  },
  {
   "cell_type": "code",
   "execution_count": null,
   "metadata": {
    "id": "f1YSzLk9dXQh"
   },
   "outputs": [],
   "source": [
    "import tensorflow as tf\n",
    "tf.test.is_gpu_available() # True/False\n",
    "\n",
    "# Or only check for gpu's with cuda support\n",
    "tf.test.is_gpu_available(cuda_only=True) "
   ]
  },
  {
   "cell_type": "markdown",
   "metadata": {
    "id": "F92yVaprGkpp"
   },
   "source": [
    "# Mount Drive"
   ]
  },
  {
   "cell_type": "code",
   "execution_count": null,
   "metadata": {
    "id": "ehyufIY3DKfs"
   },
   "outputs": [],
   "source": [
    "from google.colab import drive \n",
    "drive.mount('/content/drive')"
   ]
  },
  {
   "cell_type": "markdown",
   "metadata": {
    "id": "ZGPikPZWHD73"
   },
   "source": [
    "# Download Dataset \n",
    "\n",
    "For this example we will use CamVid dataset. It is a set of:\n",
    "\n",
    "* train images + segmentation masks\n",
    "* validation images + segmentation masks\n",
    "* test images + segmentation masks\n",
    "All images have 320 pixels height and 480 pixels width. For more inforamtion about dataset visit use this link. [Dataset Info](http://mi.eng.cam.ac.uk/research/projects/VideoRec/CamVid/)"
   ]
  },
  {
   "cell_type": "code",
   "execution_count": null,
   "metadata": {
    "colab": {
     "base_uri": "https://localhost:8080/"
    },
    "executionInfo": {
     "elapsed": 4,
     "status": "ok",
     "timestamp": 1639034689228,
     "user": {
      "displayName": "MUHAMMAD AHMAD WASEEM WASEEM AKHTAR",
      "photoUrl": "https://lh3.googleusercontent.com/a/default-user=s64",
      "userId": "10375397456552903878"
     },
     "user_tz": -300
    },
    "id": "2FxLCToEJJF4",
    "outputId": "dbda2cbb-e4bc-4c62-b7cc-b953b027d53b"
   },
   "outputs": [
    {
     "name": "stdout",
     "output_type": "stream",
     "text": [
      "/content/drive/My Drive/Codes/Datasets\n"
     ]
    }
   ],
   "source": [
    "cd /content/drive/My Drive/Codes/Datasets/"
   ]
  },
  {
   "cell_type": "code",
   "execution_count": null,
   "metadata": {
    "id": "OU3Ndk0yHDOL"
   },
   "outputs": [],
   "source": [
    "import os\n",
    "DATA_DIR = '/content/drive/My Drive/Codes/Datasets/CamVid/'\n",
    "\n",
    "# load repo with data if it is not exists\n",
    "if not os.path.exists(DATA_DIR):\n",
    "    print('Loading data...')\n",
    "    os.system('git clone https://github.com/alexgkendall/SegNet-Tutorial' )\n",
    "    print('Done!')\n",
    "else:\n",
    "  print('data already exist')"
   ]
  },
  {
   "cell_type": "markdown",
   "metadata": {
    "id": "fz-DCyTrfIPg"
   },
   "source": [
    "# Run code\n"
   ]
  },
  {
   "cell_type": "code",
   "execution_count": null,
   "metadata": {
    "id": "aTdJ5th8CteB"
   },
   "outputs": [],
   "source": [
    "cd /content/drive/My Drive/Code/Segmentation"
   ]
  },
  {
   "cell_type": "code",
   "execution_count": 3,
   "metadata": {
    "colab": {
     "base_uri": "https://localhost:8080/"
    },
    "executionInfo": {
     "elapsed": 630,
     "status": "ok",
     "timestamp": 1646038620629,
     "user": {
      "displayName": "MUHAMMAD AHMAD WASEEM WASEEM AKHTAR",
      "photoUrl": "https://lh3.googleusercontent.com/a/default-user=s64",
      "userId": "10375397456552903878"
     },
     "user_tz": -300
    },
    "id": "oNgshG6trkbw",
    "outputId": "8f884848-4619-416c-b67f-542298614f29"
   },
   "outputs": [
    {
     "name": "stdout",
     "output_type": "stream",
     "text": [
      "/content/drive/My Drive/Code\n"
     ]
    }
   ],
   "source": [
    "cd /content/drive/My Drive/Code"
   ]
  },
  {
   "cell_type": "code",
   "execution_count": null,
   "metadata": {
    "id": "4wzpoS5HIq_L"
   },
   "outputs": [],
   "source": [
    "import os\n",
    "import shutil\n",
    "\n",
    "counter = 0\n",
    "dirs = [dir for dir in os.listdir(os.getcwd()) if os.path.isfile(dir)]\n",
    "print(len(dirs))\n",
    "for dir in dirs:\n",
    "  break\n",
    "  if not os.path.exists(\"sub_a\"):\n",
    "    os.makedirs(\"sub_a\")\n",
    "  destination_path = os.path.join(\"sub_a\",dir)\n",
    "  shutil.copy(dir, destination_path)\n",
    "  counter = counter + 1\n",
    "  if (counter > 5000):\n",
    "    break"
   ]
  },
  {
   "cell_type": "code",
   "execution_count": 21,
   "metadata": {
    "colab": {
     "base_uri": "https://localhost:8080/"
    },
    "executionInfo": {
     "elapsed": 708,
     "status": "ok",
     "timestamp": 1646044692540,
     "user": {
      "displayName": "MUHAMMAD AHMAD WASEEM WASEEM AKHTAR",
      "photoUrl": "https://lh3.googleusercontent.com/a/default-user=s64",
      "userId": "10375397456552903878"
     },
     "user_tz": -300
    },
    "id": "fjVqlZPv6H8r",
    "outputId": "7475f2e1-eda9-4e33-ed5e-c43da4b528a6"
   },
   "outputs": [
    {
     "name": "stdout",
     "output_type": "stream",
     "text": [
      "/content/drive/MyDrive/socities/Complete_Zameen/1/images/sub_a\n"
     ]
    }
   ],
   "source": [
    "cd sub_a"
   ]
  },
  {
   "cell_type": "code",
   "execution_count": null,
   "metadata": {
    "id": "mnsPUKmsamH5"
   },
   "outputs": [],
   "source": [
    "%run segmentation_DeepLabV3plus.py -m v --data_dir \"../../Datasets/Land_Use_DHA/temporal2\" --output_dir '../../.Models/Keras/trained_model/DeepLabV3+/DHA_Built_vs_Unbuilt_temporal2'"
   ]
  },
  {
   "cell_type": "code",
   "execution_count": null,
   "metadata": {
    "id": "Sa4ivt_feaQl"
   },
   "outputs": [],
   "source": [
    "%run segmentation_DeepLabV3plus.py -m ea --data_dir \"../../socities/Complete_Zameen/1\" --output_dir '../../.Models/Keras/trained_model/DeepLabV3+/DHA_Built_vs_Unbuilt_temporal2'"
   ]
  },
  {
   "cell_type": "code",
   "execution_count": null,
   "metadata": {
    "colab": {
     "base_uri": "https://localhost:8080/"
    },
    "executionInfo": {
     "elapsed": 122595,
     "status": "ok",
     "timestamp": 1644925259619,
     "user": {
      "displayName": "MUHAMMAD AHMAD WASEEM WASEEM AKHTAR",
      "photoUrl": "https://lh3.googleusercontent.com/a/default-user=s64",
      "userId": "10375397456552903878"
     },
     "user_tz": -300
    },
    "id": "MOFjJ7ETehNs",
    "outputId": "a5acfc4b-624e-4078-9172-ab07fe282c32"
   },
   "outputs": [
    {
     "name": "stdout",
     "output_type": "stream",
     "text": [
      "Classification Mode: binary\n",
      "100%|██████████| 912/912 [01:54<00:00,  8.00it/s]\n"
     ]
    }
   ],
   "source": [
    "%run segmentation_DeepLabV3plus.py -m cf --data_dir \"../Bahria_Town/2\" --output_dir '../.Models/Keras/trained_model/DeepLabV3+/DHA_Built_vs_Unbuilt_temporal2'"
   ]
  },
  {
   "cell_type": "code",
   "execution_count": null,
   "metadata": {
    "colab": {
     "base_uri": "https://localhost:8080/"
    },
    "executionInfo": {
     "elapsed": 126982,
     "status": "ok",
     "timestamp": 1644925386961,
     "user": {
      "displayName": "MUHAMMAD AHMAD WASEEM WASEEM AKHTAR",
      "photoUrl": "https://lh3.googleusercontent.com/a/default-user=s64",
      "userId": "10375397456552903878"
     },
     "user_tz": -300
    },
    "id": "Q_bw4g6PehZO",
    "outputId": "eebe60a1-829d-4f59-cd4b-e15f790502a4"
   },
   "outputs": [
    {
     "name": "stdout",
     "output_type": "stream",
     "text": [
      "Classification Mode: binary\n",
      "100%|██████████| 912/912 [01:59<00:00,  7.63it/s]\n"
     ]
    }
   ],
   "source": [
    "%run segmentation_DeepLabV3plus.py -m cf --data_dir \"../Bahria_Town/3\" --output_dir '../.Models/Keras/trained_model/DeepLabV3+/DHA_Built_vs_Unbuilt_temporal2'"
   ]
  },
  {
   "cell_type": "code",
   "execution_count": null,
   "metadata": {
    "colab": {
     "base_uri": "https://localhost:8080/"
    },
    "executionInfo": {
     "elapsed": 118445,
     "status": "ok",
     "timestamp": 1644925505391,
     "user": {
      "displayName": "MUHAMMAD AHMAD WASEEM WASEEM AKHTAR",
      "photoUrl": "https://lh3.googleusercontent.com/a/default-user=s64",
      "userId": "10375397456552903878"
     },
     "user_tz": -300
    },
    "id": "S7ZWsuK8ehgH",
    "outputId": "b95fa272-990a-42bb-f3a0-5f059f6c1c27"
   },
   "outputs": [
    {
     "name": "stdout",
     "output_type": "stream",
     "text": [
      "Classification Mode: binary\n",
      "100%|██████████| 912/912 [01:51<00:00,  8.15it/s]\n"
     ]
    }
   ],
   "source": [
    "%run segmentation_DeepLabV3plus.py -m cf --data_dir \"../Bahria_Town/4\" --output_dir '../.Models/Keras/trained_model/DeepLabV3+/DHA_Built_vs_Unbuilt_temporal2'"
   ]
  },
  {
   "cell_type": "code",
   "execution_count": null,
   "metadata": {
    "colab": {
     "base_uri": "https://localhost:8080/"
    },
    "executionInfo": {
     "elapsed": 119162,
     "status": "ok",
     "timestamp": 1644925624544,
     "user": {
      "displayName": "MUHAMMAD AHMAD WASEEM WASEEM AKHTAR",
      "photoUrl": "https://lh3.googleusercontent.com/a/default-user=s64",
      "userId": "10375397456552903878"
     },
     "user_tz": -300
    },
    "id": "u5glqYqvehli",
    "outputId": "fa2f06b8-af18-4634-b7c0-42e46b914375"
   },
   "outputs": [
    {
     "name": "stdout",
     "output_type": "stream",
     "text": [
      "Classification Mode: binary\n",
      "100%|██████████| 912/912 [01:52<00:00,  8.11it/s]\n"
     ]
    }
   ],
   "source": [
    "%run segmentation_DeepLabV3plus.py -m cf --data_dir \"../Bahria_Town/5\" --output_dir '../.Models/Keras/trained_model/DeepLabV3+/DHA_Built_vs_Unbuilt_temporal2'"
   ]
  },
  {
   "cell_type": "code",
   "execution_count": null,
   "metadata": {
    "colab": {
     "base_uri": "https://localhost:8080/"
    },
    "executionInfo": {
     "elapsed": 121857,
     "status": "ok",
     "timestamp": 1644925746377,
     "user": {
      "displayName": "MUHAMMAD AHMAD WASEEM WASEEM AKHTAR",
      "photoUrl": "https://lh3.googleusercontent.com/a/default-user=s64",
      "userId": "10375397456552903878"
     },
     "user_tz": -300
    },
    "id": "6O3EPO4BehrL",
    "outputId": "feacd5ed-cfe2-48ab-cfdd-3103cf38db54"
   },
   "outputs": [
    {
     "name": "stdout",
     "output_type": "stream",
     "text": [
      "Classification Mode: binary\n",
      "100%|██████████| 912/912 [01:55<00:00,  7.92it/s]\n"
     ]
    }
   ],
   "source": [
    "%run segmentation_DeepLabV3plus.py -m cf --data_dir \"../Bahria_Town/6\" --output_dir '../.Models/Keras/trained_model/DeepLabV3+/DHA_Built_vs_Unbuilt_temporal2'"
   ]
  },
  {
   "cell_type": "code",
   "execution_count": null,
   "metadata": {
    "colab": {
     "base_uri": "https://localhost:8080/"
    },
    "executionInfo": {
     "elapsed": 118539,
     "status": "ok",
     "timestamp": 1644925864892,
     "user": {
      "displayName": "MUHAMMAD AHMAD WASEEM WASEEM AKHTAR",
      "photoUrl": "https://lh3.googleusercontent.com/a/default-user=s64",
      "userId": "10375397456552903878"
     },
     "user_tz": -300
    },
    "id": "-PBljWn_ehw3",
    "outputId": "28ad7eaa-ea4f-4a13-8ea6-ca255bf7aeff"
   },
   "outputs": [
    {
     "name": "stdout",
     "output_type": "stream",
     "text": [
      "Classification Mode: binary\n",
      "100%|██████████| 912/912 [01:51<00:00,  8.15it/s]\n"
     ]
    }
   ],
   "source": [
    "%run segmentation_DeepLabV3plus.py -m cf --data_dir \"../Bahria_Town/7\" --output_dir '../.Models/Keras/trained_model/DeepLabV3+/DHA_Built_vs_Unbuilt_temporal2'"
   ]
  },
  {
   "cell_type": "code",
   "execution_count": null,
   "metadata": {
    "colab": {
     "base_uri": "https://localhost:8080/"
    },
    "executionInfo": {
     "elapsed": 119948,
     "status": "ok",
     "timestamp": 1644925984828,
     "user": {
      "displayName": "MUHAMMAD AHMAD WASEEM WASEEM AKHTAR",
      "photoUrl": "https://lh3.googleusercontent.com/a/default-user=s64",
      "userId": "10375397456552903878"
     },
     "user_tz": -300
    },
    "id": "feS5VbLCeh2P",
    "outputId": "2047f0d7-8f9e-4269-ebc5-3c9164829d4d"
   },
   "outputs": [
    {
     "name": "stdout",
     "output_type": "stream",
     "text": [
      "Classification Mode: binary\n",
      "100%|██████████| 912/912 [01:53<00:00,  8.06it/s]\n"
     ]
    }
   ],
   "source": [
    "%run segmentation_DeepLabV3plus.py -m cf --data_dir \"../Bahria_Town/8\" --output_dir '../.Models/Keras/trained_model/DeepLabV3+/DHA_Built_vs_Unbuilt_temporal2'"
   ]
  },
  {
   "cell_type": "code",
   "execution_count": null,
   "metadata": {
    "colab": {
     "base_uri": "https://localhost:8080/"
    },
    "executionInfo": {
     "elapsed": 118673,
     "status": "ok",
     "timestamp": 1644926103489,
     "user": {
      "displayName": "MUHAMMAD AHMAD WASEEM WASEEM AKHTAR",
      "photoUrl": "https://lh3.googleusercontent.com/a/default-user=s64",
      "userId": "10375397456552903878"
     },
     "user_tz": -300
    },
    "id": "XK82XoBQeh7z",
    "outputId": "b7e030fa-b656-49fd-85ac-b0debea2eff8"
   },
   "outputs": [
    {
     "name": "stdout",
     "output_type": "stream",
     "text": [
      "Classification Mode: binary\n",
      "100%|██████████| 912/912 [01:52<00:00,  8.14it/s]\n"
     ]
    }
   ],
   "source": [
    "%run segmentation_DeepLabV3plus.py -m cf --data_dir \"../Bahria_Town/9\" --output_dir '../.Models/Keras/trained_model/DeepLabV3+/DHA_Built_vs_Unbuilt_temporal2'"
   ]
  },
  {
   "cell_type": "code",
   "execution_count": null,
   "metadata": {
    "colab": {
     "base_uri": "https://localhost:8080/"
    },
    "executionInfo": {
     "elapsed": 119118,
     "status": "ok",
     "timestamp": 1644926222600,
     "user": {
      "displayName": "MUHAMMAD AHMAD WASEEM WASEEM AKHTAR",
      "photoUrl": "https://lh3.googleusercontent.com/a/default-user=s64",
      "userId": "10375397456552903878"
     },
     "user_tz": -300
    },
    "id": "0Xa875pPeiBm",
    "outputId": "55655e96-e4a3-40f7-9724-0024f20e4575"
   },
   "outputs": [
    {
     "name": "stdout",
     "output_type": "stream",
     "text": [
      "Classification Mode: binary\n",
      "100%|██████████| 912/912 [01:52<00:00,  8.09it/s]\n"
     ]
    }
   ],
   "source": [
    "%run segmentation_DeepLabV3plus.py -m cf --data_dir \"../Bahria_Town/10\" --output_dir '../.Models/Keras/trained_model/DeepLabV3+/DHA_Built_vs_Unbuilt_temporal2'"
   ]
  },
  {
   "cell_type": "code",
   "execution_count": null,
   "metadata": {
    "colab": {
     "base_uri": "https://localhost:8080/"
    },
    "executionInfo": {
     "elapsed": 125426,
     "status": "ok",
     "timestamp": 1644926348023,
     "user": {
      "displayName": "MUHAMMAD AHMAD WASEEM WASEEM AKHTAR",
      "photoUrl": "https://lh3.googleusercontent.com/a/default-user=s64",
      "userId": "10375397456552903878"
     },
     "user_tz": -300
    },
    "id": "jp31CO9DeiHg",
    "outputId": "c7c928eb-4037-4720-b8f2-36853cb1bff5"
   },
   "outputs": [
    {
     "name": "stdout",
     "output_type": "stream",
     "text": [
      "Classification Mode: binary\n",
      "100%|██████████| 912/912 [01:59<00:00,  7.64it/s]\n"
     ]
    }
   ],
   "source": [
    "%run segmentation_DeepLabV3plus.py -m cf --data_dir \"../Bahria_Town/11\" --output_dir '../.Models/Keras/trained_model/DeepLabV3+/DHA_Built_vs_Unbuilt_temporal2'"
   ]
  },
  {
   "cell_type": "code",
   "execution_count": null,
   "metadata": {
    "colab": {
     "base_uri": "https://localhost:8080/"
    },
    "executionInfo": {
     "elapsed": 119263,
     "status": "ok",
     "timestamp": 1644926467262,
     "user": {
      "displayName": "MUHAMMAD AHMAD WASEEM WASEEM AKHTAR",
      "photoUrl": "https://lh3.googleusercontent.com/a/default-user=s64",
      "userId": "10375397456552903878"
     },
     "user_tz": -300
    },
    "id": "pSJlQhtieiX1",
    "outputId": "c6151f20-e5d2-4865-ec2d-fdceb359bc4e"
   },
   "outputs": [
    {
     "name": "stdout",
     "output_type": "stream",
     "text": [
      "Classification Mode: binary\n",
      "100%|██████████| 912/912 [01:53<00:00,  8.07it/s]\n"
     ]
    }
   ],
   "source": [
    "%run segmentation_DeepLabV3plus.py -m cf --data_dir \"../Bahria_Town/12\" --output_dir '../.Models/Keras/trained_model/DeepLabV3+/DHA_Built_vs_Unbuilt_temporal2'"
   ]
  },
  {
   "cell_type": "code",
   "execution_count": null,
   "metadata": {
    "colab": {
     "base_uri": "https://localhost:8080/"
    },
    "executionInfo": {
     "elapsed": 122159,
     "status": "ok",
     "timestamp": 1644926589396,
     "user": {
      "displayName": "MUHAMMAD AHMAD WASEEM WASEEM AKHTAR",
      "photoUrl": "https://lh3.googleusercontent.com/a/default-user=s64",
      "userId": "10375397456552903878"
     },
     "user_tz": -300
    },
    "id": "KwPQ8AdreieQ",
    "outputId": "d9f9ac1b-620f-4966-e6fe-dc559b6a1fb3"
   },
   "outputs": [
    {
     "name": "stdout",
     "output_type": "stream",
     "text": [
      "Classification Mode: binary\n",
      "100%|██████████| 912/912 [01:56<00:00,  7.85it/s]\n"
     ]
    }
   ],
   "source": [
    "%run segmentation_DeepLabV3plus.py -m cf --data_dir \"../Bahria_Town/13\" --output_dir '../.Models/Keras/trained_model/DeepLabV3+/DHA_Built_vs_Unbuilt_temporal2'"
   ]
  },
  {
   "cell_type": "code",
   "execution_count": null,
   "metadata": {
    "colab": {
     "base_uri": "https://localhost:8080/"
    },
    "executionInfo": {
     "elapsed": 117847,
     "status": "ok",
     "timestamp": 1644926707220,
     "user": {
      "displayName": "MUHAMMAD AHMAD WASEEM WASEEM AKHTAR",
      "photoUrl": "https://lh3.googleusercontent.com/a/default-user=s64",
      "userId": "10375397456552903878"
     },
     "user_tz": -300
    },
    "id": "p1HaIlK_eikK",
    "outputId": "9ebe08af-9d28-4a7f-9fa8-7cd14d0bc173"
   },
   "outputs": [
    {
     "name": "stdout",
     "output_type": "stream",
     "text": [
      "Classification Mode: binary\n",
      "100%|██████████| 912/912 [01:51<00:00,  8.17it/s]\n"
     ]
    }
   ],
   "source": [
    "%run segmentation_DeepLabV3plus.py -m cf --data_dir \"../Bahria_Town/14\" --output_dir '../.Models/Keras/trained_model/DeepLabV3+/DHA_Built_vs_Unbuilt_temporal2'"
   ]
  },
  {
   "cell_type": "code",
   "execution_count": null,
   "metadata": {
    "colab": {
     "base_uri": "https://localhost:8080/"
    },
    "executionInfo": {
     "elapsed": 118993,
     "status": "ok",
     "timestamp": 1644926826189,
     "user": {
      "displayName": "MUHAMMAD AHMAD WASEEM WASEEM AKHTAR",
      "photoUrl": "https://lh3.googleusercontent.com/a/default-user=s64",
      "userId": "10375397456552903878"
     },
     "user_tz": -300
    },
    "id": "B5hDmS37eiqH",
    "outputId": "fa414ded-f5b4-4f81-fbff-48769e8cca17"
   },
   "outputs": [
    {
     "name": "stdout",
     "output_type": "stream",
     "text": [
      "Classification Mode: binary\n",
      "100%|██████████| 912/912 [01:52<00:00,  8.11it/s]\n"
     ]
    }
   ],
   "source": [
    "%run segmentation_DeepLabV3plus.py -m cf --data_dir \"../Bahria_Town/15\" --output_dir '../.Models/Keras/trained_model/DeepLabV3+/DHA_Built_vs_Unbuilt_temporal2'"
   ]
  },
  {
   "cell_type": "code",
   "execution_count": null,
   "metadata": {
    "colab": {
     "base_uri": "https://localhost:8080/",
     "height": 101,
     "referenced_widgets": [
      "5b2cbfaf517e47bb81f822873b587437",
      "1b5e6d20e1354d2091505c3f894159d6",
      "3eed8366af0446a29432581f76aaafd4",
      "e58cd2190dba46a2a53484a0d1dd336f",
      "0338a98bf5e84785bc5143a0bfe0cc1a",
      "940f4cddf2884201b71ffd14511a266c",
      "7a1f5bac3d3e4c34b63a43bccea9c177",
      "26f1ffe972634e51ad21e3046df10275",
      "4b06a28bec89479fa79c498bac55b9ae",
      "775412fbec5847978d1e0e5e5a31b264",
      "28488b17aab34c5a8695a71a31906242"
     ]
    },
    "executionInfo": {
     "elapsed": 73724,
     "status": "ok",
     "timestamp": 1644990866929,
     "user": {
      "displayName": "MUHAMMAD AHMAD WASEEM WASEEM AKHTAR",
      "photoUrl": "https://lh3.googleusercontent.com/a/default-user=s64",
      "userId": "10375397456552903878"
     },
     "user_tz": -300
    },
    "id": "h9-qQLEVEy5K",
    "outputId": "a8001f01-41fd-45f7-f7bc-e74dbab9b76e"
   },
   "outputs": [
    {
     "name": "stderr",
     "output_type": "stream",
     "text": [
      "Downloading: \"https://download.pytorch.org/models/resnet50-19c8e357.pth\" to /root/.cache/torch/hub/checkpoints/resnet50-19c8e357.pth\n"
     ]
    },
    {
     "data": {
      "application/vnd.jupyter.widget-view+json": {
       "model_id": "5b2cbfaf517e47bb81f822873b587437",
       "version_major": 2,
       "version_minor": 0
      },
      "text/plain": [
       "  0%|          | 0.00/97.8M [00:00<?, ?B/s]"
      ]
     },
     "metadata": {},
     "output_type": "display_data"
    },
    {
     "name": "stdout",
     "output_type": "stream",
     "text": [
      "Classification Mode: binary\n",
      "100%|██████████| 84/84 [00:54<00:00,  1.54it/s]\n"
     ]
    }
   ],
   "source": [
    "%run segmentation_DeepLabV3plus.py -m cf --data_dir \"../Al_Rehman_Gardens/16\" --output_dir '../.Models/Keras/trained_model/DeepLabV3+/DHA_Built_vs_Unbuilt_temporal2'"
   ]
  }
 ],
 "metadata": {
  "accelerator": "GPU",
  "colab": {
   "collapsed_sections": [
    "ZGPikPZWHD73"
   ],
   "name": "_keras_segmentation_python_example.ipynb",
   "provenance": [
    {
     "file_id": "1q_eCYEzKxixpCKH1YDsLnsvgxl92ORcv",
     "timestamp": 1629809150691
    }
   ]
  },
  "kernelspec": {
   "display_name": "Python 3 (ipykernel)",
   "language": "python",
   "name": "python3"
  },
  "language_info": {
   "codemirror_mode": {
    "name": "ipython",
    "version": 3
   },
   "file_extension": ".py",
   "mimetype": "text/x-python",
   "name": "python",
   "nbconvert_exporter": "python",
   "pygments_lexer": "ipython3",
   "version": "3.7.0"
  },
  "widgets": {
   "application/vnd.jupyter.widget-state+json": {
    "0338a98bf5e84785bc5143a0bfe0cc1a": {
     "model_module": "@jupyter-widgets/controls",
     "model_module_version": "1.5.0",
     "model_name": "HTMLModel",
     "state": {
      "_dom_classes": [],
      "_model_module": "@jupyter-widgets/controls",
      "_model_module_version": "1.5.0",
      "_model_name": "HTMLModel",
      "_view_count": null,
      "_view_module": "@jupyter-widgets/controls",
      "_view_module_version": "1.5.0",
      "_view_name": "HTMLView",
      "description": "",
      "description_tooltip": null,
      "layout": "IPY_MODEL_28488b17aab34c5a8695a71a31906242",
      "placeholder": "​",
      "style": "IPY_MODEL_775412fbec5847978d1e0e5e5a31b264",
      "value": " 97.8M/97.8M [00:00&lt;00:00, 163MB/s]"
     }
    },
    "1b5e6d20e1354d2091505c3f894159d6": {
     "model_module": "@jupyter-widgets/base",
     "model_module_version": "1.2.0",
     "model_name": "LayoutModel",
     "state": {
      "_model_module": "@jupyter-widgets/base",
      "_model_module_version": "1.2.0",
      "_model_name": "LayoutModel",
      "_view_count": null,
      "_view_module": "@jupyter-widgets/base",
      "_view_module_version": "1.2.0",
      "_view_name": "LayoutView",
      "align_content": null,
      "align_items": null,
      "align_self": null,
      "border": null,
      "bottom": null,
      "display": null,
      "flex": null,
      "flex_flow": null,
      "grid_area": null,
      "grid_auto_columns": null,
      "grid_auto_flow": null,
      "grid_auto_rows": null,
      "grid_column": null,
      "grid_gap": null,
      "grid_row": null,
      "grid_template_areas": null,
      "grid_template_columns": null,
      "grid_template_rows": null,
      "height": null,
      "justify_content": null,
      "justify_items": null,
      "left": null,
      "margin": null,
      "max_height": null,
      "max_width": null,
      "min_height": null,
      "min_width": null,
      "object_fit": null,
      "object_position": null,
      "order": null,
      "overflow": null,
      "overflow_x": null,
      "overflow_y": null,
      "padding": null,
      "right": null,
      "top": null,
      "visibility": null,
      "width": null
     }
    },
    "26f1ffe972634e51ad21e3046df10275": {
     "model_module": "@jupyter-widgets/controls",
     "model_module_version": "1.5.0",
     "model_name": "ProgressStyleModel",
     "state": {
      "_model_module": "@jupyter-widgets/controls",
      "_model_module_version": "1.5.0",
      "_model_name": "ProgressStyleModel",
      "_view_count": null,
      "_view_module": "@jupyter-widgets/base",
      "_view_module_version": "1.2.0",
      "_view_name": "StyleView",
      "bar_color": null,
      "description_width": ""
     }
    },
    "28488b17aab34c5a8695a71a31906242": {
     "model_module": "@jupyter-widgets/base",
     "model_module_version": "1.2.0",
     "model_name": "LayoutModel",
     "state": {
      "_model_module": "@jupyter-widgets/base",
      "_model_module_version": "1.2.0",
      "_model_name": "LayoutModel",
      "_view_count": null,
      "_view_module": "@jupyter-widgets/base",
      "_view_module_version": "1.2.0",
      "_view_name": "LayoutView",
      "align_content": null,
      "align_items": null,
      "align_self": null,
      "border": null,
      "bottom": null,
      "display": null,
      "flex": null,
      "flex_flow": null,
      "grid_area": null,
      "grid_auto_columns": null,
      "grid_auto_flow": null,
      "grid_auto_rows": null,
      "grid_column": null,
      "grid_gap": null,
      "grid_row": null,
      "grid_template_areas": null,
      "grid_template_columns": null,
      "grid_template_rows": null,
      "height": null,
      "justify_content": null,
      "justify_items": null,
      "left": null,
      "margin": null,
      "max_height": null,
      "max_width": null,
      "min_height": null,
      "min_width": null,
      "object_fit": null,
      "object_position": null,
      "order": null,
      "overflow": null,
      "overflow_x": null,
      "overflow_y": null,
      "padding": null,
      "right": null,
      "top": null,
      "visibility": null,
      "width": null
     }
    },
    "3eed8366af0446a29432581f76aaafd4": {
     "model_module": "@jupyter-widgets/controls",
     "model_module_version": "1.5.0",
     "model_name": "HTMLModel",
     "state": {
      "_dom_classes": [],
      "_model_module": "@jupyter-widgets/controls",
      "_model_module_version": "1.5.0",
      "_model_name": "HTMLModel",
      "_view_count": null,
      "_view_module": "@jupyter-widgets/controls",
      "_view_module_version": "1.5.0",
      "_view_name": "HTMLView",
      "description": "",
      "description_tooltip": null,
      "layout": "IPY_MODEL_7a1f5bac3d3e4c34b63a43bccea9c177",
      "placeholder": "​",
      "style": "IPY_MODEL_940f4cddf2884201b71ffd14511a266c",
      "value": "100%"
     }
    },
    "4b06a28bec89479fa79c498bac55b9ae": {
     "model_module": "@jupyter-widgets/base",
     "model_module_version": "1.2.0",
     "model_name": "LayoutModel",
     "state": {
      "_model_module": "@jupyter-widgets/base",
      "_model_module_version": "1.2.0",
      "_model_name": "LayoutModel",
      "_view_count": null,
      "_view_module": "@jupyter-widgets/base",
      "_view_module_version": "1.2.0",
      "_view_name": "LayoutView",
      "align_content": null,
      "align_items": null,
      "align_self": null,
      "border": null,
      "bottom": null,
      "display": null,
      "flex": null,
      "flex_flow": null,
      "grid_area": null,
      "grid_auto_columns": null,
      "grid_auto_flow": null,
      "grid_auto_rows": null,
      "grid_column": null,
      "grid_gap": null,
      "grid_row": null,
      "grid_template_areas": null,
      "grid_template_columns": null,
      "grid_template_rows": null,
      "height": null,
      "justify_content": null,
      "justify_items": null,
      "left": null,
      "margin": null,
      "max_height": null,
      "max_width": null,
      "min_height": null,
      "min_width": null,
      "object_fit": null,
      "object_position": null,
      "order": null,
      "overflow": null,
      "overflow_x": null,
      "overflow_y": null,
      "padding": null,
      "right": null,
      "top": null,
      "visibility": null,
      "width": null
     }
    },
    "5b2cbfaf517e47bb81f822873b587437": {
     "model_module": "@jupyter-widgets/controls",
     "model_module_version": "1.5.0",
     "model_name": "HBoxModel",
     "state": {
      "_dom_classes": [],
      "_model_module": "@jupyter-widgets/controls",
      "_model_module_version": "1.5.0",
      "_model_name": "HBoxModel",
      "_view_count": null,
      "_view_module": "@jupyter-widgets/controls",
      "_view_module_version": "1.5.0",
      "_view_name": "HBoxView",
      "box_style": "",
      "children": [
       "IPY_MODEL_3eed8366af0446a29432581f76aaafd4",
       "IPY_MODEL_e58cd2190dba46a2a53484a0d1dd336f",
       "IPY_MODEL_0338a98bf5e84785bc5143a0bfe0cc1a"
      ],
      "layout": "IPY_MODEL_1b5e6d20e1354d2091505c3f894159d6"
     }
    },
    "775412fbec5847978d1e0e5e5a31b264": {
     "model_module": "@jupyter-widgets/controls",
     "model_module_version": "1.5.0",
     "model_name": "DescriptionStyleModel",
     "state": {
      "_model_module": "@jupyter-widgets/controls",
      "_model_module_version": "1.5.0",
      "_model_name": "DescriptionStyleModel",
      "_view_count": null,
      "_view_module": "@jupyter-widgets/base",
      "_view_module_version": "1.2.0",
      "_view_name": "StyleView",
      "description_width": ""
     }
    },
    "7a1f5bac3d3e4c34b63a43bccea9c177": {
     "model_module": "@jupyter-widgets/base",
     "model_module_version": "1.2.0",
     "model_name": "LayoutModel",
     "state": {
      "_model_module": "@jupyter-widgets/base",
      "_model_module_version": "1.2.0",
      "_model_name": "LayoutModel",
      "_view_count": null,
      "_view_module": "@jupyter-widgets/base",
      "_view_module_version": "1.2.0",
      "_view_name": "LayoutView",
      "align_content": null,
      "align_items": null,
      "align_self": null,
      "border": null,
      "bottom": null,
      "display": null,
      "flex": null,
      "flex_flow": null,
      "grid_area": null,
      "grid_auto_columns": null,
      "grid_auto_flow": null,
      "grid_auto_rows": null,
      "grid_column": null,
      "grid_gap": null,
      "grid_row": null,
      "grid_template_areas": null,
      "grid_template_columns": null,
      "grid_template_rows": null,
      "height": null,
      "justify_content": null,
      "justify_items": null,
      "left": null,
      "margin": null,
      "max_height": null,
      "max_width": null,
      "min_height": null,
      "min_width": null,
      "object_fit": null,
      "object_position": null,
      "order": null,
      "overflow": null,
      "overflow_x": null,
      "overflow_y": null,
      "padding": null,
      "right": null,
      "top": null,
      "visibility": null,
      "width": null
     }
    },
    "940f4cddf2884201b71ffd14511a266c": {
     "model_module": "@jupyter-widgets/controls",
     "model_module_version": "1.5.0",
     "model_name": "DescriptionStyleModel",
     "state": {
      "_model_module": "@jupyter-widgets/controls",
      "_model_module_version": "1.5.0",
      "_model_name": "DescriptionStyleModel",
      "_view_count": null,
      "_view_module": "@jupyter-widgets/base",
      "_view_module_version": "1.2.0",
      "_view_name": "StyleView",
      "description_width": ""
     }
    },
    "e58cd2190dba46a2a53484a0d1dd336f": {
     "model_module": "@jupyter-widgets/controls",
     "model_module_version": "1.5.0",
     "model_name": "FloatProgressModel",
     "state": {
      "_dom_classes": [],
      "_model_module": "@jupyter-widgets/controls",
      "_model_module_version": "1.5.0",
      "_model_name": "FloatProgressModel",
      "_view_count": null,
      "_view_module": "@jupyter-widgets/controls",
      "_view_module_version": "1.5.0",
      "_view_name": "ProgressView",
      "bar_style": "success",
      "description": "",
      "description_tooltip": null,
      "layout": "IPY_MODEL_4b06a28bec89479fa79c498bac55b9ae",
      "max": 102502400,
      "min": 0,
      "orientation": "horizontal",
      "style": "IPY_MODEL_26f1ffe972634e51ad21e3046df10275",
      "value": 102502400
     }
    }
   }
  }
 },
 "nbformat": 4,
 "nbformat_minor": 1
}
