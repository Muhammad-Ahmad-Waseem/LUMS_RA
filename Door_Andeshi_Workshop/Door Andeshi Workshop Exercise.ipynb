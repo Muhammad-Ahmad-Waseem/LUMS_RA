{
 "cells": [
  {
   "cell_type": "markdown",
   "metadata": {},
   "source": [
    "# Door Andeshi: Data Visualization Workshop"
   ]
  },
  {
   "cell_type": "markdown",
   "metadata": {},
   "source": [
    "## Please run the cell below if you do not have the required libraries"
   ]
  },
  {
   "cell_type": "code",
   "execution_count": null,
   "metadata": {},
   "outputs": [],
   "source": [
    "!pip install pandas\n",
    "!pip install numpy\n",
    "!pip install seaborn\n",
    "!pip install matplotlib"
   ]
  },
  {
   "cell_type": "markdown",
   "metadata": {},
   "source": [
    "## Importing Libraries"
   ]
  },
  {
   "cell_type": "code",
   "execution_count": null,
   "metadata": {},
   "outputs": [],
   "source": [
    "import pandas as pd\n",
    "import numpy as np\n",
    "import seaborn as sns\n",
    "import matplotlib\n",
    "import matplotlib.pyplot as plt\n",
    "import plotly.express as px"
   ]
  },
  {
   "cell_type": "markdown",
   "metadata": {},
   "source": [
    "## Logistics Dataset"
   ]
  },
  {
   "cell_type": "markdown",
   "metadata": {},
   "source": [
    "The following code will load the Road Traffic Accident (RTA) data for Lahore, July 2021, that was obtained from Rescue 1122. It has been preprocessed for the purpose of this exercise."
   ]
  },
  {
   "cell_type": "code",
   "execution_count": null,
   "metadata": {},
   "outputs": [],
   "source": [
    "# loading dataset\n",
    "df_rta = pd.read_csv('1122_RTA_dataset.csv')"
   ]
  },
  {
   "cell_type": "markdown",
   "metadata": {},
   "source": [
    "## Understanding the Features of the Dataset"
   ]
  },
  {
   "cell_type": "markdown",
   "metadata": {},
   "source": [
    "Run the following code to display the first 3 entries of the dataset."
   ]
  },
  {
   "cell_type": "code",
   "execution_count": null,
   "metadata": {},
   "outputs": [],
   "source": [
    "df_rta.head(3)"
   ]
  },
  {
   "cell_type": "markdown",
   "metadata": {},
   "source": [
    "Since all the columns are not visible, run the following code to view the column names."
   ]
  },
  {
   "cell_type": "code",
   "execution_count": null,
   "metadata": {},
   "outputs": [],
   "source": [
    "df_rta.columns"
   ]
  },
  {
   "cell_type": "markdown",
   "metadata": {},
   "source": [
    "Some important column names are explained below:\n",
    "\n",
    "- address: the addresss of the location where the incident took place\n",
    "- call_received_at: the time when the call was received\n",
    "- response_time: the response time stored as a datetime object\n",
    "- elapsed_time: the elapsed time stored as a datetime object\n",
    "- age: patient age\n",
    "- gender: patient gender\n",
    "- education: patient education level\n",
    "- injury_type: type of injury incurred by the patient\n",
    "- patient_fate: the outcome of the emergency call with regards to the patient\n",
    "- accident_cause: cause of accident\n",
    "- vehicles_involved: the vehicles involved in the RTA\n",
    "- peak_nonpeak: whether the call was received during peak hours or non-peak hours\n",
    "- patient_deal_time_mins: the time it took to deal with the patient\n",
    "- mileage_km: the distance travelled by the ambulance (km)\n",
    "- motorbikes/cars/pedestrians/rickshaws: the no. of motorbikes/cars/pedestrians/rickshaws involved in the RTA\n",
    "- lat/long: the geocoordinates of the incident in degrees\n",
    "- utm_x/utm_y: the geocoordinates of the incident in meters\n",
    "- severity: the severity of injury in each accident (severity increases from 1 to 5)\n",
    "\n",
    "You may go over each column if you wish so by replacing the column names in the following code. This is only if you wish to view each column."
   ]
  },
  {
   "cell_type": "code",
   "execution_count": null,
   "metadata": {},
   "outputs": [],
   "source": [
    "df_rta['injury_cause']"
   ]
  },
  {
   "cell_type": "markdown",
   "metadata": {},
   "source": [
    "## Exercise 1"
   ]
  },
  {
   "cell_type": "markdown",
   "metadata": {},
   "source": [
    "The following code creates a heatmap of the RTA count against the hour of the day and the day of the week:"
   ]
  },
  {
   "cell_type": "code",
   "execution_count": null,
   "metadata": {},
   "outputs": [],
   "source": [
    "temp = np.zeros(shape=(24,7))\n",
    "\n",
    "for h in df_rta['call_hour'].unique():\n",
    "    for wd in df_rta['call_weekday_no'].unique():\n",
    "        temp[h,wd] = len(df_rta[(df_rta['call_hour']==h) & (df_rta['call_weekday_no']==wd)].loc[:,'call_hour'])\n",
    "\n",
    "sns.set(rc={'figure.figsize':(12,12)})\n",
    "fig = plt.figure(figsize = (8,7), tight_layout=True)\n",
    "\n",
    "\n",
    "# Main heatmap code\n",
    "ax = sns.heatmap(temp)\n",
    "\n",
    "\n",
    "\n",
    "##################To align x labels:####################\n",
    "ax.set(xlabel='Day of Week', ylabel='Hour of Day')\n",
    "ax.set_title('Road Accidents, Day of Week & Hour of Day', fontsize=20)\n",
    "plt.xticks([0,1,2,3,4,5,6],['Monday','Tuesday','Wednesday','Thursday','Friday','Saturday','Sunday'],rotation=45)\n",
    "\n",
    "plt.setp( ax.xaxis.get_majorticklabels(), rotation=-45) \n",
    "\n",
    "# Create offset transform by 5 points in x direction\n",
    "dx = 35/72.; dy = 0/72. \n",
    "offset = matplotlib.transforms.ScaledTranslation(dx, dy, fig.dpi_scale_trans)\n",
    "\n",
    "# apply offset transform to all x ticklabels.\n",
    "for label in ax.xaxis.get_majorticklabels():\n",
    "    label.set_transform(label.get_transform() + offset)\n",
    "########################################################\n",
    "\n",
    "plt.show()"
   ]
  },
  {
   "cell_type": "markdown",
   "metadata": {},
   "source": [
    "Try using different color palettes for the heatmap above. The following may help you: https://python-graph-gallery.com/92-control-color-in-seaborn-heatmaps.\n",
    "\n",
    "Does a single colored heatmap do a better job of conveying what you want your audience to know, or a multi-colored heatmap?"
   ]
  },
  {
   "cell_type": "markdown",
   "metadata": {},
   "source": [
    "## Exercise 2"
   ]
  },
  {
   "cell_type": "markdown",
   "metadata": {},
   "source": [
    "We would like to see if the response time has any link to the death of patients in an RTA emergency.\n",
    "\n",
    "We first start with a scatter plot. Use the 'plt.scatter' function to plot a scatter plot. Plot 'response_time_mins' on the x axis and 'patient_fate' on the y-axis."
   ]
  },
  {
   "cell_type": "code",
   "execution_count": null,
   "metadata": {},
   "outputs": [],
   "source": [
    "fig, ax = plt.subplots(figsize = (8,5))\n",
    "\n",
    "plt.scatter()"
   ]
  },
  {
   "cell_type": "markdown",
   "metadata": {},
   "source": [
    "From a first look, it seems that response times are much more for EMS calls that either resulted in patients receving first aid or taken to the hospital, compared to deaths. Let us now use our good old friends, the bar plots, in determining if this is really the case. Run the following code to plot the bar plots."
   ]
  },
  {
   "cell_type": "code",
   "execution_count": null,
   "metadata": {},
   "outputs": [],
   "source": [
    "rt_vs_fate = df_rta[['response_time_mins']].groupby(df_rta['patient_fate']).mean()\n",
    "\n",
    "fig, ax = plt.subplots(figsize = (8,5))\n",
    "\n",
    "rt_vs_fate.plot.bar(ax=ax)\n",
    "plt.xticks(rotation=0)\n",
    "for index, value in enumerate(rt_vs_fate['response_time_mins'].to_list()):\n",
    "    plt.text(index-0.08, value+0.1, str(round(value,2)))\n",
    "\n",
    "plt.xlabel('')\n",
    "plt.ylabel('Response Time (mins)')\n",
    "plt.title('Average Response Time vs Patient Fate', fontsize=17)\n",
    "ax.get_legend().remove()"
   ]
  },
  {
   "cell_type": "markdown",
   "metadata": {},
   "source": [
    "This is surprising; according to our bar plots, the average response time for calls that resulted in deaths is actually **greater** than the other two outcomes. This is completely opposite to our initial observations from the scatter plot!\n",
    "\n",
    "However, this does not present the whole picture. Run the following code to plot a violin plot for the same problem. Note that the distribution for the \"Dead\" patient fate has bimodal tendencies, perhaps due to insufficient data."
   ]
  },
  {
   "cell_type": "code",
   "execution_count": null,
   "metadata": {},
   "outputs": [],
   "source": [
    "sns.set(rc={'figure.figsize':(15,6)})\n",
    "sns.violinplot(x = df_rta['patient_fate'], y = df_rta['response_time_mins'], data=pd.melt(df_rta))"
   ]
  },
  {
   "cell_type": "markdown",
   "metadata": {},
   "source": [
    "We conclude that we do not have enough data to determine a correlation between deaths and response times. Obtaining more data on patient deaths and their corresponding response times may help us make such claims with greater confidence."
   ]
  },
  {
   "cell_type": "markdown",
   "metadata": {},
   "source": [
    "## Exericse 3"
   ]
  },
  {
   "cell_type": "markdown",
   "metadata": {},
   "source": [
    "Let us now create an RTA hotspot and analyze which areas of Lahore experienced the most traffic accidents in July 2021. Run the following code to first observe the geospatial distirbution of our dataset. (It is made using Plotly, an interactive plots library that we will be discussing later on)"
   ]
  },
  {
   "cell_type": "code",
   "execution_count": null,
   "metadata": {},
   "outputs": [],
   "source": [
    "fig = px.scatter_mapbox(df_rta, lat=df_rta[\"lat\"], lon=df_rta[\"long\"],size_max=5,zoom=9,mapbox_style=\"open-street-map\",range_color=[0,500])\n",
    "\n",
    "fig.show()"
   ]
  },
  {
   "cell_type": "markdown",
   "metadata": {},
   "source": [
    "For the sake of simplicity, we will be creating a simple hexbin to determine accident hotspots. Complete the following code and run it.\n",
    "\n",
    "Try changing the number of bins and color maps and observe any differences in the outcome."
   ]
  },
  {
   "cell_type": "code",
   "execution_count": null,
   "metadata": {},
   "outputs": [],
   "source": [
    "fig, axes = plt.subplots(figsize=(10, 10))\n",
    "\n",
    "# Complete the following 2 lines\n",
    "x = \n",
    "y = \n",
    "\n",
    "nbins = 50\n",
    "\n",
    "axes.hexbin(x, y, gridsize=nbins, cmap = 'Blues')"
   ]
  },
  {
   "cell_type": "markdown",
   "metadata": {},
   "source": [
    "## Congratulations! You are done with the exercises."
   ]
  }
 ],
 "metadata": {
  "kernelspec": {
   "display_name": "Python 3 (ipykernel)",
   "language": "python",
   "name": "python3"
  },
  "language_info": {
   "codemirror_mode": {
    "name": "ipython",
    "version": 3
   },
   "file_extension": ".py",
   "mimetype": "text/x-python",
   "name": "python",
   "nbconvert_exporter": "python",
   "pygments_lexer": "ipython3",
   "version": "3.7.0"
  }
 },
 "nbformat": 4,
 "nbformat_minor": 4
}
